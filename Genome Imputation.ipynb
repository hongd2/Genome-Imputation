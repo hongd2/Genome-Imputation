{
 "cells": [
  {
   "cell_type": "code",
   "execution_count": 4,
   "metadata": {
    "collapsed": false
   },
   "outputs": [
    {
     "name": "stdout",
     "output_type": "stream",
     "text": [
      "100 SNPs Baseline Accuracy: 0.8822857142857143\n",
      "1000 SNPs Baseline Accuracy: 0.8262285714285714\n",
      "10000 SNPs Baseline Accuracy: 0.8078542857142857\n"
     ]
    }
   ],
   "source": [
    "import pandas as pd\n",
    "import numpy as np\n",
    "import operator\n",
    "from sklearn import preprocessing\n",
    "\n",
    "def readTrainFile(filename):\n",
    "    return pd.read_csv(filename, sep=' ')\n",
    "\n",
    "def createCrossValSet(original):\n",
    "    train = original.iloc[:,0:100].copy()\n",
    "    test = original.iloc[:,100:].copy()\n",
    "    actual = original.iloc[:,100:].copy()\n",
    "    for idx in range(len(test)):\n",
    "        if idx % 2 == 1:\n",
    "            test.iloc[idx,:] = 'x'\n",
    "    return train, test, actual\n",
    "    \n",
    "def readTestFile(filename):\n",
    "    return pd.read_csv(filename, sep=' ')\n",
    "\n",
    "def imputeMode(train, test):\n",
    "    counts = {0:0, 1:0, 2:0}\n",
    "    for individual in range(len(train)):\n",
    "        if train[individual] == 0:\n",
    "            counts[0] = counts[0] + 1\n",
    "        elif train[individual] == 1:\n",
    "            counts[1] = counts[1] + 1\n",
    "        elif train[individual] == 2:\n",
    "            counts[2] = counts[2] + 1\n",
    "    mode = max(counts.items(), key=operator.itemgetter(1))[0]\n",
    "    return mode\n",
    "\n",
    "def calculateAccuracy(actual, predicted):\n",
    "    if actual.shape != predicted.shape:\n",
    "        print(\"Mismatch matrix dimensions\")\n",
    "        pass\n",
    "    sampleSize = actual.shape[0]*actual.shape[1]\n",
    "    correct = 0\n",
    "    for SNP in range(len(actual)):\n",
    "        for individual in range (len(actual.iloc[SNP])):\n",
    "            if actual.iloc[SNP, individual] == predicted.iloc[SNP, individual]:\n",
    "                correct = correct + 1\n",
    "    return correct/sampleSize\n",
    "\n",
    "def baselineImputation(train, test):\n",
    "    # Simple Mean Imputation: take the mode of each SNP across all IND_#\n",
    "    # This assumes SNPs are independent\n",
    "    for SNP in range(len(train)):\n",
    "        test.iloc[SNP,:] = test.iloc[SNP,:].replace('x', imputeMode(train.iloc[SNP,:], test))\n",
    "        \n",
    "\n",
    "if __name__ == \"__main__\":\n",
    "#     trainSNPs = readTrainFile('imputation_training.txt')\n",
    "#     testSNPs = readTestFile('imputation_test.txt')\n",
    "    original = pd.read_csv('imputation_training.txt', sep=' ')\n",
    "    sets = [100, 1000, 10000]\n",
    "    for SNPcount in sets:\n",
    "        train, test, actual = createCrossValSet(original.iloc[0:SNPcount,:])\n",
    "        baselineImputation(train, test)\n",
    "        print(str(SNPcount)+' SNPs Baseline Accuracy: '+str(calculateAccuracy(actual, test)))"
   ]
  },
  {
   "cell_type": "code",
   "execution_count": null,
   "metadata": {
    "collapsed": false
   },
   "outputs": [],
   "source": []
  },
  {
   "cell_type": "code",
   "execution_count": null,
   "metadata": {
    "collapsed": false
   },
   "outputs": [],
   "source": []
  }
 ],
 "metadata": {
  "kernelspec": {
   "display_name": "Python 3",
   "language": "python",
   "name": "python3"
  },
  "language_info": {
   "codemirror_mode": {
    "name": "ipython",
    "version": 3
   },
   "file_extension": ".py",
   "mimetype": "text/x-python",
   "name": "python",
   "nbconvert_exporter": "python",
   "pygments_lexer": "ipython3",
   "version": "3.4.4"
  }
 },
 "nbformat": 4,
 "nbformat_minor": 0
}
